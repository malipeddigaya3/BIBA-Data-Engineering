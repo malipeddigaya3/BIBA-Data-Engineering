{
 "cells": [
  {
   "cell_type": "code",
   "execution_count": 1,
   "id": "ad0a6190",
   "metadata": {},
   "outputs": [
    {
     "name": "stdout",
     "output_type": "stream",
     "text": [
      "Defaulting to user installation because normal site-packages is not writeable\n",
      "Requirement already satisfied: pyspark in c:\\users\\hi\\appdata\\roaming\\python\\python39\\site-packages (3.5.0)\n",
      "Requirement already satisfied: py4j==0.10.9.7 in c:\\users\\hi\\appdata\\roaming\\python\\python39\\site-packages (from pyspark) (0.10.9.7)\n"
     ]
    }
   ],
   "source": [
    "!pip install pyspark\n",
    "    "
   ]
  },
  {
   "cell_type": "code",
   "execution_count": 2,
   "id": "929d7405",
   "metadata": {},
   "outputs": [],
   "source": [
    "import pyspark"
   ]
  },
  {
   "cell_type": "code",
   "execution_count": 3,
   "id": "6fef23e3",
   "metadata": {},
   "outputs": [],
   "source": [
    "import pandas as pd\n"
   ]
  },
  {
   "cell_type": "code",
   "execution_count": 7,
   "id": "d77c944b",
   "metadata": {},
   "outputs": [
    {
     "data": {
      "text/html": [
       "<div>\n",
       "<style scoped>\n",
       "    .dataframe tbody tr th:only-of-type {\n",
       "        vertical-align: middle;\n",
       "    }\n",
       "\n",
       "    .dataframe tbody tr th {\n",
       "        vertical-align: top;\n",
       "    }\n",
       "\n",
       "    .dataframe thead th {\n",
       "        text-align: right;\n",
       "    }\n",
       "</style>\n",
       "<table border=\"1\" class=\"dataframe\">\n",
       "  <thead>\n",
       "    <tr style=\"text-align: right;\">\n",
       "      <th></th>\n",
       "      <th>id</th>\n",
       "      <th>name</th>\n",
       "      <th>location</th>\n",
       "      <th>salary</th>\n",
       "      <th>age</th>\n",
       "    </tr>\n",
       "  </thead>\n",
       "  <tbody>\n",
       "    <tr>\n",
       "      <th>0</th>\n",
       "      <td>1</td>\n",
       "      <td>geetha</td>\n",
       "      <td>chennai</td>\n",
       "      <td>2000</td>\n",
       "      <td>20</td>\n",
       "    </tr>\n",
       "    <tr>\n",
       "      <th>1</th>\n",
       "      <td>2</td>\n",
       "      <td>rama</td>\n",
       "      <td>hyd</td>\n",
       "      <td>3000</td>\n",
       "      <td>19</td>\n",
       "    </tr>\n",
       "    <tr>\n",
       "      <th>2</th>\n",
       "      <td>3</td>\n",
       "      <td>pooja</td>\n",
       "      <td>bangolore</td>\n",
       "      <td>1500</td>\n",
       "      <td>23</td>\n",
       "    </tr>\n",
       "    <tr>\n",
       "      <th>3</th>\n",
       "      <td>4</td>\n",
       "      <td>sir</td>\n",
       "      <td>hyd</td>\n",
       "      <td>2500</td>\n",
       "      <td>25</td>\n",
       "    </tr>\n",
       "  </tbody>\n",
       "</table>\n",
       "</div>"
      ],
      "text/plain": [
       "   id    name   location  salary  age\n",
       "0   1  geetha    chennai    2000   20\n",
       "1   2    rama        hyd    3000   19\n",
       "2   3   pooja  bangolore    1500   23\n",
       "3   4     sir        hyd    2500   25"
      ]
     },
     "execution_count": 7,
     "metadata": {},
     "output_type": "execute_result"
    }
   ],
   "source": [
    "pd.read_csv(\"C:/Users/HI/OneDrive/Desktop/emp.csv\")"
   ]
  },
  {
   "cell_type": "code",
   "execution_count": 8,
   "id": "6d19b418",
   "metadata": {},
   "outputs": [],
   "source": [
    "from pyspark.sql import SparkSession"
   ]
  },
  {
   "cell_type": "code",
   "execution_count": 9,
   "id": "d9557f07",
   "metadata": {},
   "outputs": [],
   "source": [
    "spark=SparkSession.builder.appName('practice').getOrCreate()"
   ]
  },
  {
   "cell_type": "code",
   "execution_count": 43,
   "id": "65217314",
   "metadata": {},
   "outputs": [
    {
     "data": {
      "text/html": [
       "\n",
       "            <div>\n",
       "                <p><b>SparkSession - in-memory</b></p>\n",
       "                \n",
       "        <div>\n",
       "            <p><b>SparkContext</b></p>\n",
       "\n",
       "            <p><a href=\"http://LAPTOP-149O31S3:4040\">Spark UI</a></p>\n",
       "\n",
       "            <dl>\n",
       "              <dt>Version</dt>\n",
       "                <dd><code>v3.5.0</code></dd>\n",
       "              <dt>Master</dt>\n",
       "                <dd><code>local[*]</code></dd>\n",
       "              <dt>AppName</dt>\n",
       "                <dd><code>practice</code></dd>\n",
       "            </dl>\n",
       "        </div>\n",
       "        \n",
       "            </div>\n",
       "        "
      ],
      "text/plain": [
       "<pyspark.sql.session.SparkSession at 0x1d34c1a6970>"
      ]
     },
     "execution_count": 43,
     "metadata": {},
     "output_type": "execute_result"
    }
   ],
   "source": [
    "spark"
   ]
  },
  {
   "cell_type": "markdown",
   "id": "3c26cde4",
   "metadata": {},
   "source": [
    "reading dataset"
   ]
  },
  {
   "cell_type": "code",
   "execution_count": 11,
   "id": "5e1ae0b2",
   "metadata": {},
   "outputs": [],
   "source": [
    "df=spark.read.csv(\"C:/Users/HI/OneDrive/Desktop/emp.csv\")"
   ]
  },
  {
   "cell_type": "code",
   "execution_count": 12,
   "id": "e23ddefc",
   "metadata": {},
   "outputs": [
    {
     "name": "stdout",
     "output_type": "stream",
     "text": [
      "+---+------+---------+------+---+\n",
      "|_c0|   _c1|      _c2|   _c3|_c4|\n",
      "+---+------+---------+------+---+\n",
      "| id|  name| location|salary|age|\n",
      "|  1|geetha|  chennai|  2000| 20|\n",
      "|  2|  rama|      hyd|  3000| 19|\n",
      "|  3| pooja|bangolore|  1500| 23|\n",
      "|  4|   sir|      hyd|  2500| 25|\n",
      "+---+------+---------+------+---+\n",
      "\n"
     ]
    }
   ],
   "source": [
    "df.show()"
   ]
  },
  {
   "cell_type": "code",
   "execution_count": 13,
   "id": "ba596d86",
   "metadata": {},
   "outputs": [
    {
     "name": "stdout",
     "output_type": "stream",
     "text": [
      "+---+------+---------+------+---+\n",
      "| id|  name| location|salary|age|\n",
      "+---+------+---------+------+---+\n",
      "|  1|geetha|  chennai|  2000| 20|\n",
      "|  2|  rama|      hyd|  3000| 19|\n",
      "|  3| pooja|bangolore|  1500| 23|\n",
      "|  4|   sir|      hyd|  2500| 25|\n",
      "+---+------+---------+------+---+\n",
      "\n"
     ]
    }
   ],
   "source": [
    "df_spark=spark.read.option('header','true').csv(\"C:/Users/HI/OneDrive/Desktop/emp.csv\").show()"
   ]
  },
  {
   "cell_type": "code",
   "execution_count": 14,
   "id": "5f32860a",
   "metadata": {},
   "outputs": [],
   "source": [
    "df_spark=spark.read.option('header','true').csv(\"C:/Users/HI/OneDrive/Desktop/emp.csv\")"
   ]
  },
  {
   "cell_type": "code",
   "execution_count": 15,
   "id": "1b064108",
   "metadata": {},
   "outputs": [
    {
     "data": {
      "text/plain": [
       "pyspark.sql.dataframe.DataFrame"
      ]
     },
     "execution_count": 15,
     "metadata": {},
     "output_type": "execute_result"
    }
   ],
   "source": [
    "type(df_spark)"
   ]
  },
  {
   "cell_type": "code",
   "execution_count": 17,
   "id": "3818642d",
   "metadata": {},
   "outputs": [
    {
     "name": "stdout",
     "output_type": "stream",
     "text": [
      "root\n",
      " |-- id: string (nullable = true)\n",
      " |-- name: string (nullable = true)\n",
      " |-- location: string (nullable = true)\n",
      " |-- salary: string (nullable = true)\n",
      " |-- age: string (nullable = true)\n",
      "\n"
     ]
    }
   ],
   "source": [
    "df_spark.printSchema()"
   ]
  },
  {
   "cell_type": "markdown",
   "id": "ae57db4e",
   "metadata": {},
   "source": [
    "inferschema=true gives the datatype implicitly .we dont need to specify the datatypes"
   ]
  },
  {
   "cell_type": "code",
   "execution_count": 19,
   "id": "6ec41c8b",
   "metadata": {},
   "outputs": [],
   "source": [
    "df_spark=spark.read.option('header','true').csv(\"C:/Users/HI/OneDrive/Desktop/emp.csv\",inferSchema=True)"
   ]
  },
  {
   "cell_type": "code",
   "execution_count": 20,
   "id": "dd78658e",
   "metadata": {},
   "outputs": [
    {
     "name": "stdout",
     "output_type": "stream",
     "text": [
      "root\n",
      " |-- id: integer (nullable = true)\n",
      " |-- name: string (nullable = true)\n",
      " |-- location: string (nullable = true)\n",
      " |-- salary: integer (nullable = true)\n",
      " |-- age: integer (nullable = true)\n",
      "\n"
     ]
    }
   ],
   "source": [
    "df_spark.printSchema()"
   ]
  },
  {
   "cell_type": "code",
   "execution_count": 21,
   "id": "34bf770a",
   "metadata": {},
   "outputs": [
    {
     "name": "stdout",
     "output_type": "stream",
     "text": [
      "+---+------+---------+------+---+\n",
      "| id|  name| location|salary|age|\n",
      "+---+------+---------+------+---+\n",
      "|  1|geetha|  chennai|  2000| 20|\n",
      "|  2|  rama|      hyd|  3000| 19|\n",
      "|  3| pooja|bangolore|  1500| 23|\n",
      "|  4|   sir|      hyd|  2500| 25|\n",
      "+---+------+---------+------+---+\n",
      "\n"
     ]
    }
   ],
   "source": [
    "df=spark.read.csv(\"C:/Users/HI/OneDrive/Desktop/emp.csv\",header=True,inferSchema=True)\n",
    "df.show()"
   ]
  },
  {
   "cell_type": "code",
   "execution_count": 22,
   "id": "095adeba",
   "metadata": {},
   "outputs": [
    {
     "data": {
      "text/plain": [
       "pyspark.sql.dataframe.DataFrame"
      ]
     },
     "execution_count": 22,
     "metadata": {},
     "output_type": "execute_result"
    }
   ],
   "source": [
    "type(df)"
   ]
  },
  {
   "cell_type": "code",
   "execution_count": 92,
   "id": "a2915eeb",
   "metadata": {},
   "outputs": [
    {
     "data": {
      "text/plain": [
       "5"
      ]
     },
     "execution_count": 92,
     "metadata": {},
     "output_type": "execute_result"
    }
   ],
   "source": [
    "df.take(\n"
   ]
  },
  {
   "cell_type": "code",
   "execution_count": 94,
   "id": "0e18ab81",
   "metadata": {},
   "outputs": [
    {
     "data": {
      "text/plain": [
       "[Row(id=3, name='pooja', location='bangolore', salary=1500, age=23),\n",
       " Row(id=4, name='sir', location='hyd', salary=2500, age=25)]"
      ]
     },
     "execution_count": 94,
     "metadata": {},
     "output_type": "execute_result"
    }
   ],
   "source": [
    "df.dtypes#Return df column names and data types\n",
    "df.show()#returns dataframe\n",
    "df.head()#Display the content of df\n",
    "df.first()# Return the first row\n",
    "df.take(2)# Return the first n rows\n",
    "df.describe().show()#Compute summary statistics\n",
    "df.columns#Return the columns of df\n",
    "df.count()#Count the number of rows\n",
    "df.distinct().count()#count the number of distinct rows\n",
    "df.printSchema()#print schema of df\n",
    "df.explain()#print logical and physical plans\n",
    "df = df.dropDuplicates() #removes the duplicate d\n",
    "df.schema#Return the schema of df"
   ]
  },
  {
   "cell_type": "code",
   "execution_count": null,
   "id": "c6cb4967",
   "metadata": {},
   "outputs": [],
   "source": [
    "df.schema#Return the schema of df"
   ]
  },
  {
   "cell_type": "code",
   "execution_count": null,
   "id": "f4da1305",
   "metadata": {},
   "outputs": [],
   "source": [
    "df.describe().show()#Compute summary statistics\n",
    "df.columns#Return the columns of df\n",
    "df.count()#Count the number of rows\n",
    "df.distinct().count()#count the number of distinct rows\n",
    "df.printSchema()#print schema of df\n",
    "df.explain()#print logical and physical plans\n",
    "df = df.dropDuplicates() #removes the duplicate d"
   ]
  },
  {
   "cell_type": "code",
   "execution_count": null,
   "id": "b4c532da",
   "metadata": {},
   "outputs": [],
   "source": []
  },
  {
   "cell_type": "code",
   "execution_count": 24,
   "id": "ab9b6c6d",
   "metadata": {},
   "outputs": [
    {
     "data": {
      "text/plain": [
       "[Row(id=1, name='geetha', location='chennai', salary=2000, age=20),\n",
       " Row(id=2, name='rama', location='hyd', salary=3000, age=19),\n",
       " Row(id=3, name='pooja', location='bangolore', salary=1500, age=23)]"
      ]
     },
     "execution_count": 24,
     "metadata": {},
     "output_type": "execute_result"
    }
   ],
   "source": [
    "df.head(3)"
   ]
  },
  {
   "cell_type": "markdown",
   "id": "e3ecbf85",
   "metadata": {},
   "source": [
    "select columns"
   ]
  },
  {
   "cell_type": "code",
   "execution_count": 26,
   "id": "77914d80",
   "metadata": {},
   "outputs": [
    {
     "name": "stdout",
     "output_type": "stream",
     "text": [
      "+------+\n",
      "|  name|\n",
      "+------+\n",
      "|geetha|\n",
      "|  rama|\n",
      "| pooja|\n",
      "|   sir|\n",
      "+------+\n",
      "\n"
     ]
    }
   ],
   "source": [
    "df.select('name').show()"
   ]
  },
  {
   "cell_type": "code",
   "execution_count": 27,
   "id": "43facd00",
   "metadata": {},
   "outputs": [
    {
     "name": "stdout",
     "output_type": "stream",
     "text": [
      "+------+---+\n",
      "|  name|age|\n",
      "+------+---+\n",
      "|geetha| 20|\n",
      "|  rama| 19|\n",
      "| pooja| 23|\n",
      "|   sir| 25|\n",
      "+------+---+\n",
      "\n"
     ]
    }
   ],
   "source": [
    "df.select([\"name\",\"age\"]).show()"
   ]
  },
  {
   "cell_type": "code",
   "execution_count": 29,
   "id": "59820028",
   "metadata": {},
   "outputs": [
    {
     "name": "stdout",
     "output_type": "stream",
     "text": [
      "+-------+------------------+------+---------+-----------------+------------------+\n",
      "|summary|                id|  name| location|           salary|               age|\n",
      "+-------+------------------+------+---------+-----------------+------------------+\n",
      "|  count|                 4|     4|        4|                4|                 4|\n",
      "|   mean|               2.5|  NULL|     NULL|           2250.0|             21.75|\n",
      "| stddev|1.2909944487358056|  NULL|     NULL|645.4972243679028|2.7537852736430506|\n",
      "|    min|                 1|geetha|bangolore|             1500|                19|\n",
      "|    max|                 4|   sir|      hyd|             3000|                25|\n",
      "+-------+------------------+------+---------+-----------------+------------------+\n",
      "\n"
     ]
    }
   ],
   "source": [
    "df.describe().show()"
   ]
  },
  {
   "cell_type": "code",
   "execution_count": 38,
   "id": "e5fe00b9",
   "metadata": {},
   "outputs": [
    {
     "name": "stdout",
     "output_type": "stream",
     "text": [
      "+---+------+---------+------+---+-----------------+\n",
      "| id|  name| location|salary|age|age after 2 years|\n",
      "+---+------+---------+------+---+-----------------+\n",
      "|  1|geetha|  chennai|  2000| 20|               22|\n",
      "|  2|  rama|      hyd|  3000| 19|               21|\n",
      "|  3| pooja|bangolore|  1500| 23|               25|\n",
      "|  4|   sir|      hyd|  2500| 25|               27|\n",
      "+---+------+---------+------+---+-----------------+\n",
      "\n"
     ]
    }
   ],
   "source": [
    "#adding columns in dataframe\n",
    "df.withColumn('age after 2 years',df['age']+2).show()\n"
   ]
  },
  {
   "cell_type": "code",
   "execution_count": 40,
   "id": "7cb1efb2",
   "metadata": {},
   "outputs": [],
   "source": [
    "#drop columns in dataframe\n",
    "d=df.drop('age after 2 years')"
   ]
  },
  {
   "cell_type": "code",
   "execution_count": 41,
   "id": "85908461",
   "metadata": {},
   "outputs": [
    {
     "name": "stdout",
     "output_type": "stream",
     "text": [
      "+---+------+---------+------+---+\n",
      "| id|  name| location|salary|age|\n",
      "+---+------+---------+------+---+\n",
      "|  1|geetha|  chennai|  2000| 20|\n",
      "|  2|  rama|      hyd|  3000| 19|\n",
      "|  3| pooja|bangolore|  1500| 23|\n",
      "|  4|   sir|      hyd|  2500| 25|\n",
      "+---+------+---------+------+---+\n",
      "\n"
     ]
    }
   ],
   "source": [
    "d.show()"
   ]
  },
  {
   "cell_type": "code",
   "execution_count": 98,
   "id": "6fc2a4a7",
   "metadata": {},
   "outputs": [],
   "source": [
    "#rename the columns\n",
    "df=d.withColumnRenamed(\"name\",\"Name\")"
   ]
  },
  {
   "cell_type": "code",
   "execution_count": 100,
   "id": "17e9a349",
   "metadata": {},
   "outputs": [
    {
     "name": "stdout",
     "output_type": "stream",
     "text": [
      "+------+------+---+\n",
      "|  name|salary|age|\n",
      "+------+------+---+\n",
      "|  rama|  3000| 19|\n",
      "|geetha|  2000| 20|\n",
      "|sravya|  3000| 22|\n",
      "| pooja|  1500| 23|\n",
      "|   sir|  2500| 25|\n",
      "+------+------+---+\n",
      "\n"
     ]
    }
   ],
   "source": [
    "df.sort('age').select('name','salary','age').show()"
   ]
  },
  {
   "cell_type": "code",
   "execution_count": 51,
   "id": "ca24567d",
   "metadata": {},
   "outputs": [
    {
     "name": "stdout",
     "output_type": "stream",
     "text": [
      "+---+------+---------+------+----+\n",
      "| id|  name| location|salary| age|\n",
      "+---+------+---------+------+----+\n",
      "|  1|geetha|  chennai|  2000|  20|\n",
      "|  2|  rama|      hyd|  3000|NULL|\n",
      "|  3| pooja|bangolore|  NULL|  23|\n",
      "|  4|   sir|      hyd|  2500|  25|\n",
      "|  5|sravya|     NULL|  3000|NULL|\n",
      "+---+------+---------+------+----+\n",
      "\n"
     ]
    }
   ],
   "source": [
    "df=spark.read.csv(\"C:/Users/HI/OneDrive/Desktop/emp.csv\",header=True,inferSchema=True)\n",
    "df.show()"
   ]
  },
  {
   "cell_type": "code",
   "execution_count": 52,
   "id": "32cd44a8",
   "metadata": {},
   "outputs": [
    {
     "name": "stdout",
     "output_type": "stream",
     "text": [
      "+---+------+--------+------+---+\n",
      "| id|  name|location|salary|age|\n",
      "+---+------+--------+------+---+\n",
      "|  1|geetha| chennai|  2000| 20|\n",
      "|  4|   sir|     hyd|  2500| 25|\n",
      "+---+------+--------+------+---+\n",
      "\n"
     ]
    }
   ],
   "source": [
    "#drop rows having null values\n",
    "df.na.drop().show()"
   ]
  },
  {
   "cell_type": "code",
   "execution_count": 53,
   "id": "ba25483e",
   "metadata": {},
   "outputs": [
    {
     "name": "stdout",
     "output_type": "stream",
     "text": [
      "+---+------+--------+------+---+\n",
      "| id|  name|location|salary|age|\n",
      "+---+------+--------+------+---+\n",
      "|  1|geetha| chennai|  2000| 20|\n",
      "|  4|   sir|     hyd|  2500| 25|\n",
      "+---+------+--------+------+---+\n",
      "\n"
     ]
    }
   ],
   "source": [
    "df.na.drop(how=\"any\").show()#how=any deletes rows if any of the value is numm"
   ]
  },
  {
   "cell_type": "code",
   "execution_count": 54,
   "id": "fd53943a",
   "metadata": {},
   "outputs": [
    {
     "name": "stdout",
     "output_type": "stream",
     "text": [
      "+---+------+---------+------+----+\n",
      "| id|  name| location|salary| age|\n",
      "+---+------+---------+------+----+\n",
      "|  1|geetha|  chennai|  2000|  20|\n",
      "|  2|  rama|      hyd|  3000|NULL|\n",
      "|  3| pooja|bangolore|  NULL|  23|\n",
      "|  4|   sir|      hyd|  2500|  25|\n",
      "|  5|sravya|     NULL|  3000|NULL|\n",
      "+---+------+---------+------+----+\n",
      "\n"
     ]
    }
   ],
   "source": [
    "df.na.drop(how=\"all\").show()#all deletes if all values are null"
   ]
  },
  {
   "cell_type": "code",
   "execution_count": 59,
   "id": "8cc4cbbf",
   "metadata": {},
   "outputs": [
    {
     "name": "stdout",
     "output_type": "stream",
     "text": [
      "+---+------+---------+------+----+\n",
      "| id|  name| location|salary| age|\n",
      "+---+------+---------+------+----+\n",
      "|  1|geetha|  chennai|  2000|  20|\n",
      "|  2|  rama|      hyd|  3000|NULL|\n",
      "|  3| pooja|bangolore|  NULL|  23|\n",
      "|  4|   sir|      hyd|  2500|  25|\n",
      "|  5|sravya|     NULL|  3000|NULL|\n",
      "+---+------+---------+------+----+\n",
      "\n"
     ]
    }
   ],
   "source": [
    "df.na.drop(how=\"any\",thresh=2).show()#threshold=non null values"
   ]
  },
  {
   "cell_type": "code",
   "execution_count": 60,
   "id": "d50b0f45",
   "metadata": {},
   "outputs": [
    {
     "name": "stdout",
     "output_type": "stream",
     "text": [
      "+---+------+--------+------+----+\n",
      "| id|  name|location|salary| age|\n",
      "+---+------+--------+------+----+\n",
      "|  1|geetha| chennai|  2000|  20|\n",
      "|  2|  rama|     hyd|  3000|NULL|\n",
      "|  4|   sir|     hyd|  2500|  25|\n",
      "|  5|sravya|    NULL|  3000|NULL|\n",
      "+---+------+--------+------+----+\n",
      "\n"
     ]
    }
   ],
   "source": [
    "#subset-removes the rows which have null values in the column specified.\n",
    "df.na.drop(subset=[\"salary\"]).show()"
   ]
  },
  {
   "cell_type": "code",
   "execution_count": 64,
   "id": "31bd391b",
   "metadata": {},
   "outputs": [
    {
     "name": "stdout",
     "output_type": "stream",
     "text": [
      "+---+------+---------+------+----+\n",
      "| id|  name| location|salary| age|\n",
      "+---+------+---------+------+----+\n",
      "|  1|geetha|  chennai|  2000|  20|\n",
      "|  2|  rama|      hyd|  3000|NULL|\n",
      "|  3| pooja|bangolore|  NULL|  23|\n",
      "|  4|   sir|      hyd|  2500|  25|\n",
      "|  5|sravya|     city|  3000|NULL|\n",
      "+---+------+---------+------+----+\n",
      "\n"
     ]
    }
   ],
   "source": [
    "#filling missing values\n",
    "df.na.fill('city',['location']).show()"
   ]
  },
  {
   "cell_type": "code",
   "execution_count": 67,
   "id": "72f5a88e",
   "metadata": {},
   "outputs": [
    {
     "name": "stdout",
     "output_type": "stream",
     "text": [
      "+---+------+---------+------+---+\n",
      "| id|  name| location|salary|age|\n",
      "+---+------+---------+------+---+\n",
      "|  3| pooja|bangolore|  1500| 23|\n",
      "|  4|   sir|      hyd|  2500| 25|\n",
      "|  5|sravya|      kou|  3000| 22|\n",
      "+---+------+---------+------+---+\n",
      "\n"
     ]
    }
   ],
   "source": [
    "#filter operations\n",
    "df.filter('age>21').show()"
   ]
  },
  {
   "cell_type": "code",
   "execution_count": 70,
   "id": "7064d8d9",
   "metadata": {},
   "outputs": [
    {
     "name": "stdout",
     "output_type": "stream",
     "text": [
      "+---+------+--------+------+---+\n",
      "| id|  name|location|salary|age|\n",
      "+---+------+--------+------+---+\n",
      "|  4|   sir|     hyd|  2500| 25|\n",
      "|  5|sravya|     kou|  3000| 22|\n",
      "+---+------+--------+------+---+\n",
      "\n"
     ]
    }
   ],
   "source": [
    "df.filter((df['salary']>=2500) & \n",
    "         (df['age']>20)).show()"
   ]
  },
  {
   "cell_type": "code",
   "execution_count": 79,
   "id": "0ae883ea",
   "metadata": {},
   "outputs": [],
   "source": [
    "b=spark.sparkContext.parallelize([1,2,3,4,5,6,7,8,9])"
   ]
  },
  {
   "cell_type": "code",
   "execution_count": 84,
   "id": "e55805a2",
   "metadata": {},
   "outputs": [
    {
     "data": {
      "text/plain": [
       "ParallelCollectionRDD[186] at readRDDFromFile at PythonRDD.scala:289"
      ]
     },
     "execution_count": 84,
     "metadata": {},
     "output_type": "execute_result"
    }
   ],
   "source": [
    "b"
   ]
  },
  {
   "cell_type": "code",
   "execution_count": 102,
   "id": "9451166e",
   "metadata": {},
   "outputs": [
    {
     "name": "stdout",
     "output_type": "stream",
     "text": [
      "+---------+------------+--------------------+\n",
      "|     name|  department|              salary|\n",
      "+---------+------------+--------------------+\n",
      "|    Krish|Data Science|               10000|\n",
      "|    Krish|         IOT|                5000|\n",
      "|   Mahesh|    Big Data|                4000|\n",
      "|    Krish|    Big Data|                4000|\n",
      "|   Mahesh|Data Science|                3000|\n",
      "|Sudhanshu|Data Science|               20000|\n",
      "|Sudhanshu|         IOT|               10000|\n",
      "|Sudhanshu|    Big Data|                5000|\n",
      "|    Sunny|Data Science|               10000|\n",
      "|    Sunny|    Big Data|                2000|\n",
      "+---------+------------+--------------------+\n",
      "\n"
     ]
    }
   ],
   "source": [
    "df=spark.read.csv(\"C:/Users/HI/OneDrive/Desktop/Book1.csv\",header=True,inferSchema=True)\n",
    "df.show()"
   ]
  },
  {
   "cell_type": "code",
   "execution_count": 106,
   "id": "aa9a1887",
   "metadata": {},
   "outputs": [
    {
     "name": "stdout",
     "output_type": "stream",
     "text": [
      "+---------+-------------------------+\n",
      "|     name|sum(              salary)|\n",
      "+---------+-------------------------+\n",
      "|Sudhanshu|                    35000|\n",
      "|    Sunny|                    12000|\n",
      "|    Krish|                    19000|\n",
      "|   Mahesh|                     7000|\n",
      "+---------+-------------------------+\n",
      "\n"
     ]
    }
   ],
   "source": [
    "#groupby\n",
    "df.groupBy('name').sum().show()\n"
   ]
  },
  {
   "cell_type": "code",
   "execution_count": 109,
   "id": "590c6367",
   "metadata": {},
   "outputs": [
    {
     "name": "stdout",
     "output_type": "stream",
     "text": [
      "+------------+-----+\n",
      "|  department|count|\n",
      "+------------+-----+\n",
      "|         IOT|    2|\n",
      "|    Big Data|    4|\n",
      "|Data Science|    4|\n",
      "+------------+-----+\n",
      "\n"
     ]
    }
   ],
   "source": [
    "#groupby departments\n",
    "df.groupBy('department').count().show()"
   ]
  },
  {
   "cell_type": "code",
   "execution_count": null,
   "id": "367b06d3",
   "metadata": {},
   "outputs": [],
   "source": []
  },
  {
   "cell_type": "code",
   "execution_count": null,
   "id": "cb8ec2d3",
   "metadata": {},
   "outputs": [],
   "source": []
  },
  {
   "cell_type": "code",
   "execution_count": null,
   "id": "9ed8dc8a",
   "metadata": {},
   "outputs": [],
   "source": []
  },
  {
   "cell_type": "code",
   "execution_count": null,
   "id": "f9a1c3e3",
   "metadata": {},
   "outputs": [],
   "source": []
  },
  {
   "cell_type": "code",
   "execution_count": null,
   "id": "a56eb414",
   "metadata": {},
   "outputs": [],
   "source": []
  },
  {
   "cell_type": "code",
   "execution_count": null,
   "id": "8a7b95b0",
   "metadata": {},
   "outputs": [],
   "source": []
  }
 ],
 "metadata": {
  "kernelspec": {
   "display_name": "Python 3 (ipykernel)",
   "language": "python",
   "name": "python3"
  },
  "language_info": {
   "codemirror_mode": {
    "name": "ipython",
    "version": 3
   },
   "file_extension": ".py",
   "mimetype": "text/x-python",
   "name": "python",
   "nbconvert_exporter": "python",
   "pygments_lexer": "ipython3",
   "version": "3.9.13"
  }
 },
 "nbformat": 4,
 "nbformat_minor": 5
}
