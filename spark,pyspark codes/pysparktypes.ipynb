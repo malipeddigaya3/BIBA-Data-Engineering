{
 "cells": [
  {
   "cell_type": "code",
   "execution_count": 1,
   "id": "398bcf56",
   "metadata": {},
   "outputs": [
    {
     "name": "stdout",
     "output_type": "stream",
     "text": [
      "{'type': 'array', 'elementType': 'integer', 'containsNull': False}\n",
      "array<int>\n",
      "array\n"
     ]
    }
   ],
   "source": [
    "from pyspark.sql import SparkSession\n",
    "from pyspark.sql.types import DataType\n",
    "from pyspark.sql.types import StructType, StructField, StringType, ArrayType, IntegerType\n",
    "\n",
    "spark = SparkSession.builder.appName('SparkByExamples.com').getOrCreate()\n",
    "\n",
    "from pyspark.sql.types import ArrayType,IntegerType\n",
    "arrayType = ArrayType(IntegerType(),False)\n",
    "print(arrayType.jsonValue()) \n",
    "print(arrayType.simpleString())\n",
    "print(arrayType.typeName()) \n"
   ]
  },
  {
   "cell_type": "code",
   "execution_count": 2,
   "id": "07f624ab",
   "metadata": {},
   "outputs": [
    {
     "name": "stdout",
     "output_type": "stream",
     "text": [
      "StringType()\n",
      "IntegerType()\n",
      "True\n"
     ]
    }
   ],
   "source": [
    "from pyspark.sql.types import MapType,StringType,IntegerType\n",
    "mapType = MapType(StringType(),IntegerType())\n",
    " \n",
    "print(mapType.keyType)\n",
    "print(mapType.valueType)\n",
    "print(mapType.valueContainsNull)"
   ]
  },
  {
   "cell_type": "code",
   "execution_count": 3,
   "id": "53ba8b35",
   "metadata": {},
   "outputs": [
    {
     "name": "stdout",
     "output_type": "stream",
     "text": [
      "root\n",
      " |-- firstname: string (nullable = true)\n",
      " |-- middlename: string (nullable = true)\n",
      " |-- lastname: string (nullable = true)\n",
      " |-- age: string (nullable = true)\n",
      " |-- gender: string (nullable = true)\n",
      " |-- salary: integer (nullable = true)\n",
      "\n"
     ]
    }
   ],
   "source": [
    "data = [(\"James\",\"\",\"Smith\",\"36\",\"M\",3000),\n",
    "    (\"Michael\",\"Rose\",\"\",\"40\",\"M\",4000),\n",
    "    (\"Robert\",\"\",\"Williams\",\"42\",\"M\",4000),\n",
    "    (\"Maria\",\"Anne\",\"Jones\",\"39\",\"F\",4000),\n",
    "    (\"Jen\",\"Mary\",\"Brown\",\"\",\"F\",-1)\n",
    "  ]\n",
    "\n",
    "schema = StructType([ \n",
    "    StructField(\"firstname\",StringType(),True), \n",
    "    StructField(\"middlename\",StringType(),True), \n",
    "    StructField(\"lastname\",StringType(),True), \n",
    "    StructField(\"age\", StringType(), True), \n",
    "    StructField(\"gender\", StringType(), True), \n",
    "    StructField(\"salary\", IntegerType(), True) \n",
    "  ])\n",
    "\n",
    "\n",
    "df = spark.createDataFrame(data=data,schema=schema)\n",
    "df.printSchema()"
   ]
  },
  {
   "cell_type": "code",
   "execution_count": 4,
   "id": "aaff44a7",
   "metadata": {},
   "outputs": [
    {
     "name": "stdout",
     "output_type": "stream",
     "text": [
      "+---------+----------+--------+---+------+------+\n",
      "|firstname|middlename|lastname|age|gender|salary|\n",
      "+---------+----------+--------+---+------+------+\n",
      "|James    |          |Smith   |36 |M     |3000  |\n",
      "|Michael  |Rose      |        |40 |M     |4000  |\n",
      "|Robert   |          |Williams|42 |M     |4000  |\n",
      "|Maria    |Anne      |Jones   |39 |F     |4000  |\n",
      "|Jen      |Mary      |Brown   |   |F     |-1    |\n",
      "+---------+----------+--------+---+------+------+\n",
      "\n"
     ]
    }
   ],
   "source": [
    "df.show(truncate=False)"
   ]
  },
  {
   "cell_type": "code",
   "execution_count": null,
   "id": "1f2bf733",
   "metadata": {},
   "outputs": [],
   "source": []
  }
 ],
 "metadata": {
  "kernelspec": {
   "display_name": "Python 3 (ipykernel)",
   "language": "python",
   "name": "python3"
  },
  "language_info": {
   "codemirror_mode": {
    "name": "ipython",
    "version": 3
   },
   "file_extension": ".py",
   "mimetype": "text/x-python",
   "name": "python",
   "nbconvert_exporter": "python",
   "pygments_lexer": "ipython3",
   "version": "3.9.13"
  }
 },
 "nbformat": 4,
 "nbformat_minor": 5
}
