{
 "cells": [
  {
   "cell_type": "code",
   "execution_count": 1,
   "id": "7780bf39",
   "metadata": {},
   "outputs": [],
   "source": [
    "from pyspark.sql import SparkSession\n",
    "from pyspark.sql.functions import col, concat, lit, floor, rand\n"
   ]
  },
  {
   "cell_type": "code",
   "execution_count": 19,
   "id": "249f857f",
   "metadata": {},
   "outputs": [],
   "source": [
    "import os\n",
    "import sys\n",
    "\n",
    "os.environ['PYSPARK_PYTHON'] = sys.executable\n",
    "os.environ['PYSPARK_DRIVER_PYTHON'] = sys.executable"
   ]
  },
  {
   "cell_type": "code",
   "execution_count": 2,
   "id": "2b581d53",
   "metadata": {},
   "outputs": [],
   "source": [
    "spark = SparkSession.builder.appName(\"ComplexETL\").getOrCreate()\n",
    "source_path = \"C:/Users/HI/OneDrive/Desktop/orders.csv\"\n",
    "target_path = \"C:/Users/HI/OneDrive/Desktop/Book2.csv\""
   ]
  },
  {
   "cell_type": "code",
   "execution_count": 5,
   "id": "5ae5ef39",
   "metadata": {},
   "outputs": [],
   "source": [
    "df = spark.read.csv(source_path, header=True,schema = 'cust_id int, first_name string,last_name string,cust_order int,cust_status string')\n"
   ]
  },
  {
   "cell_type": "code",
   "execution_count": 6,
   "id": "cc96089b",
   "metadata": {},
   "outputs": [],
   "source": [
    "#Transformation 1: Concatenate First and Last Names\n",
    "df = df.withColumn(\"full_name\", concat(col(\"first_name\"), lit(\" \"), col(\"last_name\")))"
   ]
  },
  {
   "cell_type": "code",
   "execution_count": 7,
   "id": "b37cf3e9",
   "metadata": {},
   "outputs": [],
   "source": [
    "# Transformation 2: Calculate Net Salary (subtract 10% as taxes)\n",
    "df = df.withColumn(\"net_salary\", floor(lit(10000) + rand() * lit(50)) )"
   ]
  },
  {
   "cell_type": "code",
   "execution_count": 8,
   "id": "abb63a4b",
   "metadata": {},
   "outputs": [],
   "source": [
    "#adding age column\n",
    "df = df.withColumn(\"age\", floor(lit(20) + rand() * lit(31)))\n"
   ]
  },
  {
   "cell_type": "code",
   "execution_count": 9,
   "id": "e9161d08",
   "metadata": {},
   "outputs": [],
   "source": [
    "# Transformation 3: Filter by Age (age >= 30)\n",
    "df = df.filter(col(\"age\") >= 30)\n"
   ]
  },
  {
   "cell_type": "code",
   "execution_count": 10,
   "id": "7125f349",
   "metadata": {},
   "outputs": [],
   "source": [
    "# Transformation 4: Group by Age and Calculate Average Salary\n",
    "avg_salary_by_age = df.groupBy(\"age\").agg({\"net_salary\": \"avg\"}).withColumnRenamed(\"avg(salary)\", \"avg_salary\")\n"
   ]
  },
  {
   "cell_type": "code",
   "execution_count": 11,
   "id": "0e42766d",
   "metadata": {},
   "outputs": [],
   "source": [
    "# Transformation 5: Sort by Age\n",
    "df = df.orderBy(\"age\")\n"
   ]
  },
  {
   "cell_type": "code",
   "execution_count": 25,
   "id": "7af17060",
   "metadata": {},
   "outputs": [],
   "source": [
    "df.toPandas().to_csv(target_path)"
   ]
  },
  {
   "cell_type": "code",
   "execution_count": null,
   "id": "0a9a0835",
   "metadata": {},
   "outputs": [],
   "source": []
  }
 ],
 "metadata": {
  "kernelspec": {
   "display_name": "Python 3 (ipykernel)",
   "language": "python",
   "name": "python3"
  },
  "language_info": {
   "codemirror_mode": {
    "name": "ipython",
    "version": 3
   },
   "file_extension": ".py",
   "mimetype": "text/x-python",
   "name": "python",
   "nbconvert_exporter": "python",
   "pygments_lexer": "ipython3",
   "version": "3.9.13"
  }
 },
 "nbformat": 4,
 "nbformat_minor": 5
}
