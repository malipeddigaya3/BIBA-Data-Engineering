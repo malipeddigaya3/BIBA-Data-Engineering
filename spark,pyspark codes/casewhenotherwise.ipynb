{
 "cells": [
  {
   "cell_type": "code",
   "execution_count": 1,
   "id": "1ad07c16",
   "metadata": {},
   "outputs": [
    {
     "name": "stdout",
     "output_type": "stream",
     "text": [
      "root\n",
      " |-- first_name: string (nullable = true)\n",
      " |-- middle_name: string (nullable = true)\n",
      " |-- last_name: string (nullable = true)\n",
      " |-- dob: string (nullable = true)\n",
      " |-- gender: string (nullable = true)\n",
      " |-- salary: long (nullable = true)\n",
      "\n",
      "+----------+-----------+---------+-----+------+------+\n",
      "|first_name|middle_name|last_name|dob  |gender|salary|\n",
      "+----------+-----------+---------+-----+------+------+\n",
      "|James     |           |Smith    |36636|M     |60000 |\n",
      "|Michael   |Rose       |         |40288|M     |70000 |\n",
      "|Robert    |           |Williams |42114|      |400000|\n",
      "|Maria     |Anne       |Jones    |39192|F     |500000|\n",
      "|Jen       |Mary       |Brown    |     |F     |0     |\n",
      "+----------+-----------+---------+-----+------+------+\n",
      "\n"
     ]
    }
   ],
   "source": [
    "import pyspark\n",
    "from pyspark.sql import SparkSession\n",
    "\n",
    "spark = SparkSession.builder.appName('SparkByExamples.com').getOrCreate()\n",
    "\n",
    "data = [(\"James\",\"\",\"Smith\",\"36636\",\"M\",60000),\n",
    "        (\"Michael\",\"Rose\",\"\",\"40288\",\"M\",70000),\n",
    "        (\"Robert\",\"\",\"Williams\",\"42114\",\"\",400000),\n",
    "        (\"Maria\",\"Anne\",\"Jones\",\"39192\",\"F\",500000),\n",
    "        (\"Jen\",\"Mary\",\"Brown\",\"\",\"F\",0)]\n",
    "\n",
    "columns = [\"first_name\",\"middle_name\",\"last_name\",\"dob\",\"gender\",\"salary\"]\n",
    "df = spark.createDataFrame(data = data, schema = columns)\n",
    "df.printSchema()\n",
    "df.show(truncate=False)"
   ]
  },
  {
   "cell_type": "code",
   "execution_count": null,
   "id": "e63eeab9",
   "metadata": {},
   "outputs": [],
   "source": [
    "#use when otherwise"
   ]
  },
  {
   "cell_type": "code",
   "execution_count": 2,
   "id": "5b27a9dc",
   "metadata": {},
   "outputs": [
    {
     "name": "stdout",
     "output_type": "stream",
     "text": [
      "+----------+-----------+---------+-----+------+------+----------+\n",
      "|first_name|middle_name|last_name|dob  |gender|salary|new_gender|\n",
      "+----------+-----------+---------+-----+------+------+----------+\n",
      "|James     |           |Smith    |36636|M     |60000 |Male      |\n",
      "|Michael   |Rose       |         |40288|M     |70000 |Male      |\n",
      "|Robert    |           |Williams |42114|      |400000|Unknown   |\n",
      "|Maria     |Anne       |Jones    |39192|F     |500000|Female    |\n",
      "|Jen       |Mary       |Brown    |     |F     |0     |Female    |\n",
      "+----------+-----------+---------+-----+------+------+----------+\n",
      "\n",
      "+----------+-----------+---------+-----+------+------+----------+\n",
      "|first_name|middle_name|last_name|dob  |gender|salary|new_gender|\n",
      "+----------+-----------+---------+-----+------+------+----------+\n",
      "|James     |           |Smith    |36636|M     |60000 |Male      |\n",
      "|Michael   |Rose       |         |40288|M     |70000 |Male      |\n",
      "|Robert    |           |Williams |42114|      |400000|Unknown   |\n",
      "|Maria     |Anne       |Jones    |39192|F     |500000|Female    |\n",
      "|Jen       |Mary       |Brown    |     |F     |0     |Female    |\n",
      "+----------+-----------+---------+-----+------+------+----------+\n",
      "\n"
     ]
    }
   ],
   "source": [
    "from pyspark.sql.functions import col, when\n",
    "df2 = df.withColumn(\"new_gender\", when(col(\"gender\") == \"M\",\"Male\")\n",
    "                                 .when(col(\"gender\") == \"F\",\"Female\")\n",
    "                                 .otherwise(\"Unknown\"))\n",
    "df2.show(truncate=False)\n",
    "\n",
    "df22=df.select(col(\"*\"), when(col(\"gender\") == \"M\",\"Male\")\n",
    "      .when(col(\"gender\") == \"F\",\"Female\")\n",
    "      .otherwise(\"Unknown\").alias(\"new_gender\")).show(truncate=False)\n"
   ]
  },
  {
   "cell_type": "code",
   "execution_count": null,
   "id": "360ec3f5",
   "metadata": {},
   "outputs": [],
   "source": [
    "#use case when"
   ]
  },
  {
   "cell_type": "code",
   "execution_count": 3,
   "id": "aef925b1",
   "metadata": {},
   "outputs": [
    {
     "name": "stdout",
     "output_type": "stream",
     "text": [
      "+----------+-----------+---------+-----+------+------+----------+\n",
      "|first_name|middle_name|last_name|dob  |gender|salary|new_gender|\n",
      "+----------+-----------+---------+-----+------+------+----------+\n",
      "|James     |           |Smith    |36636|M     |60000 |Male      |\n",
      "|Michael   |Rose       |         |40288|M     |70000 |Male      |\n",
      "|Robert    |           |Williams |42114|      |400000|Unknown   |\n",
      "|Maria     |Anne       |Jones    |39192|F     |500000|Female    |\n",
      "|Jen       |Mary       |Brown    |     |F     |0     |Female    |\n",
      "+----------+-----------+---------+-----+------+------+----------+\n",
      "\n"
     ]
    }
   ],
   "source": [
    "from pyspark.sql.functions import expr\n",
    "df3 = df.withColumn(\"new_gender\", expr(\"case when gender = 'M' then 'Male' \" + \n",
    "                       \"when gender = 'F' then 'Female' \" +\n",
    "                       \"else 'Unknown' end\"))\n",
    "df3.show(truncate=False)\n"
   ]
  },
  {
   "cell_type": "code",
   "execution_count": null,
   "id": "53f23abe",
   "metadata": {},
   "outputs": [],
   "source": []
  }
 ],
 "metadata": {
  "kernelspec": {
   "display_name": "Python 3 (ipykernel)",
   "language": "python",
   "name": "python3"
  },
  "language_info": {
   "codemirror_mode": {
    "name": "ipython",
    "version": 3
   },
   "file_extension": ".py",
   "mimetype": "text/x-python",
   "name": "python",
   "nbconvert_exporter": "python",
   "pygments_lexer": "ipython3",
   "version": "3.9.13"
  }
 },
 "nbformat": 4,
 "nbformat_minor": 5
}
